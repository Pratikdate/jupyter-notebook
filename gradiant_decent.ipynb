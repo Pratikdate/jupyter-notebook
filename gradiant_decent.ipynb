{
 "cells": [
  {
   "cell_type": "code",
   "execution_count": 16,
   "id": "720257e0",
   "metadata": {},
   "outputs": [],
   "source": [
    "import numpy as np\n",
    "import matplotlib.pyplot as plt\n",
    "from sklearn import metrics ,linear_model"
   ]
  },
  {
   "cell_type": "code",
   "execution_count": null,
   "id": "d256230d",
   "metadata": {},
   "outputs": [],
   "source": [
    "def gradient_descent(x,y):\n",
    "    \n",
    "    b_curr=m_curr=0\n",
    "    iterations=1000\n",
    "    n=len(x)\n",
    "    learning_rate=0.001\n",
    "    \n",
    "    \n",
    "    \n",
    "    \n",
    "    for i in range (iterations):\n",
    "        y_predi=m_curr* x + b_curr\n",
    "        cost=(1/n) * sum([val*2 for val in (y-y_predi)])\n",
    "        md=-(2/n)*sum(x*(y-y_predi))\n",
    "        bd=-(2/n)*sum(y-y_predi)\n",
    "        \n",
    "        m_curr=m_curr - learning_rate* md\n",
    "        b_curr= b_curr - learning_rate * bd\n",
    "        print(f\"m({m_curr})   b({b_curr})  cost({cost}) iterations({i})\")\n",
    "        #return m_curr,b_curr\n",
    "        \n",
    "    \n",
    "        %matplotlib inline\n",
    "        plt.scatter(m_curr,b_curr)\n",
    "        plt.show()\n",
    "    fig = plt.figure()\n",
    "    ax = fig.add_subplot(111, projection='3d')\n",
    "    ax.scatter(m_curr,b_curr,iterations)\n",
    "    plt.show()\n",
    "        "
   ]
  },
  {
   "cell_type": "code",
   "execution_count": null,
   "id": "73d54d20",
   "metadata": {},
   "outputs": [],
   "source": [
    "x=np.array([1,2,3])\n",
    "y=np.array([4,5,6])\n",
    "        \n",
    "    \n",
    " "
   ]
  },
  {
   "cell_type": "code",
   "execution_count": null,
   "id": "f5e926dc",
   "metadata": {},
   "outputs": [],
   "source": [
    "xn=np.array([[1],[2],[3]])\n",
    "yn=np.array([[4],[5],[6]])\n",
    "model=linear_model.LinearRegression()\n",
    "model.fit(xn,yn)\n",
    "predict=model.predict(xn)\n",
    "metrics.accuracy_score(yn,predict)\n"
   ]
  },
  {
   "cell_type": "code",
   "execution_count": null,
   "id": "d948dcf9",
   "metadata": {},
   "outputs": [],
   "source": [
    "metrics.mean_squared_error(yn,predict)"
   ]
  },
  {
   "cell_type": "code",
   "execution_count": null,
   "id": "5650a19e",
   "metadata": {
    "run_control": {
     "marked": true
    },
    "scrolled": false
   },
   "outputs": [],
   "source": [
    "gradient_descent(x,y)"
   ]
  }
 ],
 "metadata": {
  "hide_input": false,
  "kernelspec": {
   "display_name": "Python 3 (ipykernel)",
   "language": "python",
   "name": "python3"
  },
  "language_info": {
   "codemirror_mode": {
    "name": "ipython",
    "version": 3
   },
   "file_extension": ".py",
   "mimetype": "text/x-python",
   "name": "python",
   "nbconvert_exporter": "python",
   "pygments_lexer": "ipython3",
   "version": "3.9.7"
  },
  "latex_envs": {
   "LaTeX_envs_menu_present": true,
   "autoclose": false,
   "autocomplete": true,
   "bibliofile": "biblio.bib",
   "cite_by": "apalike",
   "current_citInitial": 1,
   "eqLabelWithNumbers": true,
   "eqNumInitial": 1,
   "hotkeys": {
    "equation": "Ctrl-E",
    "itemize": "Ctrl-I"
   },
   "labels_anchors": false,
   "latex_user_defs": false,
   "report_style_numbering": false,
   "user_envs_cfg": false
  },
  "nbTranslate": {
   "displayLangs": [
    "*"
   ],
   "hotkey": "alt-t",
   "langInMainMenu": true,
   "sourceLang": "en",
   "targetLang": "fr",
   "useGoogleTranslate": true
  }
 },
 "nbformat": 4,
 "nbformat_minor": 5
}
