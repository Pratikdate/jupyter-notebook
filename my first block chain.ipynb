{
 "cells": [
  {
   "cell_type": "code",
   "execution_count": 27,
   "id": "20984417",
   "metadata": {},
   "outputs": [
    {
     "ename": "BaseException",
     "evalue": "not find hash after  traying 10000000",
     "output_type": "error",
     "traceback": [
      "\u001b[0;31m---------------------------------------------------------------------------\u001b[0m",
      "\u001b[0;31mBaseException\u001b[0m                             Traceback (most recent call last)",
      "\u001b[0;32m/data/user/0/ru.iiec.pydroid3/cache/ipykernel_12588/1107136224.py\u001b[0m in \u001b[0;36m<module>\u001b[0;34m\u001b[0m\n\u001b[1;32m     26\u001b[0m     '''\n\u001b[1;32m     27\u001b[0m     \u001b[0mdeficulty\u001b[0m\u001b[0;34m=\u001b[0m\u001b[0;36m4\u001b[0m\u001b[0;34m\u001b[0m\u001b[0;34m\u001b[0m\u001b[0m\n\u001b[0;32m---> 28\u001b[0;31m     \u001b[0mnew_hash\u001b[0m\u001b[0;34m=\u001b[0m\u001b[0mmine\u001b[0m\u001b[0;34m(\u001b[0m\u001b[0;36m4\u001b[0m\u001b[0;34m,\u001b[0m\u001b[0mtransactions\u001b[0m\u001b[0;34m,\u001b[0m\u001b[0;34m\"00001522wtwbbww156722hhw678827525gbsj\"\u001b[0m\u001b[0;34m,\u001b[0m\u001b[0mdeficulty\u001b[0m\u001b[0;34m)\u001b[0m\u001b[0;34m\u001b[0m\u001b[0;34m\u001b[0m\u001b[0m\n\u001b[0m\u001b[1;32m     29\u001b[0m \u001b[0;34m\u001b[0m\u001b[0m\n\u001b[1;32m     30\u001b[0m \u001b[0;34m\u001b[0m\u001b[0m\n",
      "\u001b[0;32m/data/user/0/ru.iiec.pydroid3/cache/ipykernel_12588/1107136224.py\u001b[0m in \u001b[0;36mmine\u001b[0;34m(block_num, transactions, previous_hash, prefix_zeros)\u001b[0m\n\u001b[1;32m     14\u001b[0m             \u001b[0mprint\u001b[0m\u001b[0;34m(\u001b[0m\u001b[0;34mf\"we sucssesfuli mine bit cion{nonce}\"\u001b[0m\u001b[0;34m)\u001b[0m\u001b[0;34m\u001b[0m\u001b[0;34m\u001b[0m\u001b[0m\n\u001b[1;32m     15\u001b[0m             \u001b[0;32mreturn\u001b[0m \u001b[0mnew_hash\u001b[0m\u001b[0;34m\u001b[0m\u001b[0;34m\u001b[0m\u001b[0m\n\u001b[0;32m---> 16\u001b[0;31m     \u001b[0;32mraise\u001b[0m \u001b[0mBaseException\u001b[0m \u001b[0;34m(\u001b[0m\u001b[0;34mf\"not find hash after  traying {MAX_RANGE}\"\u001b[0m\u001b[0;34m)\u001b[0m\u001b[0;34m\u001b[0m\u001b[0;34m\u001b[0m\u001b[0m\n\u001b[0m\u001b[1;32m     17\u001b[0m \u001b[0;34m\u001b[0m\u001b[0m\n\u001b[1;32m     18\u001b[0m \u001b[0;32mif\u001b[0m \u001b[0m__name__\u001b[0m\u001b[0;34m==\u001b[0m\u001b[0;34m\"__main__\"\u001b[0m\u001b[0;34m:\u001b[0m\u001b[0;34m\u001b[0m\u001b[0;34m\u001b[0m\u001b[0m\n",
      "\u001b[0;31mBaseException\u001b[0m: not find hash after  traying 10000000"
     ]
    }
   ],
   "source": [
    "from hashlib import sha256\n",
    "MAX_RANGE=10000000\n",
    "\n",
    "def SHA256(text):\n",
    "    return sha256(text.encode(\"ascii\")).hexdigest()\n",
    "\n",
    "\n",
    "def mine(block_num,transactions,previous_hash,prefix_zeros):\n",
    "    prefix_str=\"0\"*prefix_zeros\n",
    "    for nonce in range(MAX_RANGE):\n",
    "        text=str(block_num)+transactions+previous_hash+str(nonce)\n",
    "        new_hash=SHA256(text)\n",
    "        if new_hash.startswith(prefix_str):\n",
    "            print(f\"we sucssesfuli mine bit cion{nonce}\")\n",
    "            return new_hash\n",
    "    raise BaseException (f\"not find hash after  traying {MAX_RANGE}\")\n",
    "\n",
    "if __name__==\"__main__\":\n",
    "    \n",
    "    \n",
    "    \n",
    "    \n",
    "    transactions='''\n",
    "    pratik -> abhi =$20\n",
    "    madhav -> sudan =$30\n",
    "    '''\n",
    "    deficulty=4\n",
    "    new_hash=mine(4,transactions,\"00001522wtwbbww156722hhw678827525gbsj\",deficulty)\n",
    "                  \n",
    "    \n",
    "    \n",
    "\n",
    "    print(new_hash)\n"
   ]
  },
  {
   "cell_type": "code",
   "execution_count": null,
   "id": "f3601de5",
   "metadata": {},
   "outputs": [],
   "source": []
  }
 ],
 "metadata": {
  "kernelspec": {
   "display_name": "Python 3 (ipykernel)",
   "language": "python",
   "name": "python3"
  },
  "language_info": {
   "codemirror_mode": {
    "name": "ipython",
    "version": 3
   },
   "file_extension": ".py",
   "mimetype": "text/x-python",
   "name": "python",
   "nbconvert_exporter": "python",
   "pygments_lexer": "ipython3",
   "version": "3.9.7"
  }
 },
 "nbformat": 4,
 "nbformat_minor": 5
}
